{
 "cells": [
  {
   "cell_type": "code",
   "execution_count": 1,
   "metadata": {},
   "outputs": [
    {
     "name": "stdout",
     "output_type": "stream",
     "text": [
      "The nltk version is 3.5.\n"
     ]
    }
   ],
   "source": [
    "import nltk\n",
    "# nltk.download('maxent_ne_chunker')\n",
    "# nltk.download('maxent_treebank_pos_tagger')\n",
    "# nltk.download('treebank')\n",
    "# nltk.download('words')\n",
    "\n",
    "print('The nltk version is {}.'.format(nltk.__version__))"
   ]
  },
  {
   "cell_type": "markdown",
   "metadata": {},
   "source": [
    "# Parse Tree"
   ]
  },
  {
   "cell_type": "code",
   "execution_count": 2,
   "metadata": {},
   "outputs": [],
   "source": [
    "sentence = \"John went for a walk to the park with a golden statue.\"\n",
    "tokens = nltk.word_tokenize(sentence)"
   ]
  },
  {
   "cell_type": "code",
   "execution_count": 3,
   "metadata": {},
   "outputs": [
    {
     "name": "stdout",
     "output_type": "stream",
     "text": [
      "['John', 'went', 'for', 'a', 'walk', 'to', 'the', 'park', 'with', 'a', 'golden', 'statue', '.'] \n",
      " 13\n"
     ]
    }
   ],
   "source": [
    "print(tokens, '\\n', len(tokens))"
   ]
  },
  {
   "cell_type": "code",
   "execution_count": 4,
   "metadata": {},
   "outputs": [
    {
     "data": {
      "text/plain": [
       "[('John', 'NNP'),\n",
       " ('went', 'VBD'),\n",
       " ('for', 'IN'),\n",
       " ('a', 'DT'),\n",
       " ('walk', 'NN'),\n",
       " ('to', 'TO'),\n",
       " ('the', 'DT'),\n",
       " ('park', 'NN'),\n",
       " ('with', 'IN'),\n",
       " ('a', 'DT'),\n",
       " ('golden', 'JJ'),\n",
       " ('statue', 'NN'),\n",
       " ('.', '.')]"
      ]
     },
     "execution_count": 4,
     "metadata": {},
     "output_type": "execute_result"
    }
   ],
   "source": [
    "tagged = nltk.pos_tag(tokens)\n",
    "tagged[:]"
   ]
  },
  {
   "cell_type": "code",
   "execution_count": 5,
   "metadata": {},
   "outputs": [
    {
     "name": "stdout",
     "output_type": "stream",
     "text": [
      "Tree('S', [Tree('PERSON', [('John', 'NNP')]), ('went', 'VBD'), ('for', 'IN'), ('a', 'DT'), ('walk', 'NN'), ('to', 'TO'), ('the', 'DT'), ('park', 'NN'), ('with', 'IN'), ('a', 'DT'), ('golden', 'JJ'), ('statue', 'NN'), ('.', '.')])\n"
     ]
    }
   ],
   "source": [
    "entities = nltk.chunk.ne_chunk(tagged)\n",
    "print(entities.__repr__()) # Instead of gs file downloading and adding it to environment variables, we can use __repr__()\n",
    "                           # to avoid gs error."
   ]
  },
  {
   "cell_type": "code",
   "execution_count": 6,
   "metadata": {},
   "outputs": [],
   "source": [
    "from nltk.draw.tree import draw_trees\n",
    "draw_trees(entities)"
   ]
  },
  {
   "cell_type": "code",
   "execution_count": 7,
   "metadata": {},
   "outputs": [
    {
     "data": {
      "image/png": "[encoded data removed]",
      "text/plain": [
       "Tree('S', [Tree('PERSON', [('John', 'NNP')]), ('went', 'VBD'), ('for', 'IN'), ('a', 'DT'), ('walk', 'NN'), ('to', 'TO'), ('the', 'DT'), ('park', 'NN'), ('with', 'IN'), ('a', 'DT'), ('golden', 'JJ'), ('statue', 'NN'), ('.', '.')])"
      ]
     },
     "execution_count": 7,
     "metadata": {},
     "output_type": "execute_result"
    }
   ],
   "source": [
    "# If using ghostscript (gs) file method, then perform the following steps\n",
    "\n",
    "# Download gs file from https://ghostscript.com/releases/gsdnld.html and and add its path to Environment Variables. \n",
    "# gs file may be stored at C:\\Program Files\\ (e.g., \"C:\\Program Files\\gs\\gs9.55.0\\bin\")\n",
    "\n",
    "# Add the path to the environment variable in the advanced system settings->Environment Variables:\n",
    "\n",
    "import os\n",
    "path_to_gs = \"C:/Program Files/gs/gs9.55.0/bin\"\n",
    "os.environ['PATH'] += os.pathsep + path_to_gs\n",
    "entities = nltk.chunk.ne_chunk(tagged)\n",
    "entities"
   ]
  },
  {
   "cell_type": "markdown",
   "metadata": {},
   "source": [
    " "
   ]
  },
  {
   "cell_type": "markdown",
   "metadata": {},
   "source": [
    " "
   ]
  },
  {
   "cell_type": "markdown",
   "metadata": {},
   "source": [
    "# Syntax Tree"
   ]
  },
  {
   "cell_type": "code",
   "execution_count": 8,
   "metadata": {},
   "outputs": [
    {
     "name": "stdout",
     "output_type": "stream",
     "text": [
      "After Extracting\n",
      " (S\n",
      "  John/NNP\n",
      "  (VP (V went/VBD))\n",
      "  (P for/IN)\n",
      "  (NP a/DT walk/NN)\n",
      "  to/TO\n",
      "  (NP the/DT park/NN)\n",
      "  (P with/IN)\n",
      "  (NP a/DT golden/JJ statue/NN)\n",
      "  ./.)\n"
     ]
    }
   ],
   "source": [
    "# nltk.download('punkt')\n",
    "# nltk.download('averaged_perceptron_tagger')\n",
    "from nltk import pos_tag, word_tokenize, RegexpParser\n",
    "\n",
    "sentence = \"John went for a walk to the park with a golden statue.\"\n",
    "\n",
    "tagged = pos_tag(word_tokenize(sentence))\n",
    "\n",
    "chunker = RegexpParser(\"\"\"\n",
    "                       NP: {<DT>?<JJ>*<NN>}    #To extract Noun Phrases\n",
    "                       P: {<IN>}               #To extract Prepositions\n",
    "                       V: {<V.*>}              #To extract Verbs\n",
    "                       PP: {<p> <NP>}          #To extract Prepositional Phrases\n",
    "                       VP: {<V> <NP|PP>*}      #To extract Verb Phrases\n",
    "                       \"\"\")\n",
    "output = chunker.parse(tagged)\n",
    "print(\"After Extracting\\n\", output)"
   ]
  },
  {
   "cell_type": "code",
   "execution_count": 9,
   "metadata": {},
   "outputs": [],
   "source": [
    "output.draw()"
   ]
  }
 ],
 "metadata": {
  "kernelspec": {
   "display_name": "Python 3",
   "language": "python",
   "name": "python3"
  },
  "language_info": {
   "codemirror_mode": {
    "name": "ipython",
    "version": 3
   },
   "file_extension": ".py",
   "mimetype": "text/x-python",
   "name": "python",
   "nbconvert_exporter": "python",
   "pygments_lexer": "ipython3",
   "version": "3.8.5"
  }
 },
 "nbformat": 4,
 "nbformat_minor": 4
}
